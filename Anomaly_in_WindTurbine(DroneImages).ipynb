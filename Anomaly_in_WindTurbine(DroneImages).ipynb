{
  "nbformat": 4,
  "nbformat_minor": 0,
  "metadata": {
    "colab": {
      "provenance": [],
      "gpuType": "T4",
      "include_colab_link": true
    },
    "kernelspec": {
      "name": "python3",
      "display_name": "Python 3"
    },
    "language_info": {
      "name": "python"
    },
    "accelerator": "GPU"
  },
  "cells": [
    {
      "cell_type": "markdown",
      "metadata": {
        "id": "view-in-github",
        "colab_type": "text"
      },
      "source": [
        "<a href=\"https://colab.research.google.com/github/precioushriya/Anomaly_In_WindTurbine_Images/blob/main/Anomaly_in_WindTurbine(DroneImages).ipynb\" target=\"_parent\"><img src=\"https://colab.research.google.com/assets/colab-badge.svg\" alt=\"Open In Colab\"/></a>"
      ]
    },
    {
      "cell_type": "code",
      "execution_count": null,
      "metadata": {
        "id": "GGl_jM8VJ3Zb"
      },
      "outputs": [],
      "source": [
        "import cv2\n",
        "import numpy as np\n",
        "import pandas as pd\n",
        "import os, sys\n",
        "from IPython.display import display\n",
        "from IPython.display import Image as _Imgdis\n",
        "from PIL import Image"
      ]
    },
    {
      "cell_type": "code",
      "source": [
        "def generate_array(folder):\n",
        "  onlyfiles = [f for f in os.listdir(folder) if os.path.isfile(os.path.join(folder, f))]\n",
        "\n",
        "  print(\"Working with {0} images\".format(len(onlyfiles)))\n",
        "  #print(\"Image examples: \")\n",
        "\n",
        "  #for i in range(2):\n",
        "  #   print(onlyfiles[i])\n",
        "    #  display(_Imgdis(filename=folder + \"/\" + onlyfiles[i], width=240, height=320))\n",
        "  onlyfiles[1]\n",
        "  type(onlyfiles[1])\n",
        "\n",
        "  from scipy import ndimage\n",
        "  from keras.preprocessing.image import ImageDataGenerator, array_to_img, img_to_array, load_img\n",
        "\n",
        "  train_files = []\n",
        "  i=0\n",
        "  for _file in onlyfiles:\n",
        "      train_files.append(_file)\n",
        "      label_in_file = _file.find(\"_\")\n",
        "  print(\"Files in train_files: %d\" % len(train_files))\n",
        "\n",
        "  # Original Dimensions      #2970 #5280 #3\n",
        "  image_width = 5280\n",
        "  image_height = 2970\n",
        "  ratio = 4\n",
        "\n",
        "  image_width = int(image_width / ratio) - 1\n",
        "  image_height = int(image_height / ratio)\n",
        "\n",
        "  channels = 3\n",
        "  nb_classes = 1\n",
        "\n",
        "  dataset = np.ndarray(shape=(len(train_files), image_width , image_height , channels),\n",
        "                      dtype=np.float32)\n",
        "\n",
        "  i = 0\n",
        "  for _file in train_files:\n",
        "      img = load_img(folder + \"/\" + _file)  # this is a PIL image\n",
        "      img.thumbnail((image_width, image_height))\n",
        "      # Convert to Numpy Array\n",
        "      x = img_to_array(img)\n",
        "      x = x.reshape((1319 , 742 , 3))\n",
        "      # Normalize the array\n",
        "      x = (x - 128.0) / 128.0\n",
        "      dataset[i] = x\n",
        "      i += 1\n",
        "      if i % 250 == 0:\n",
        "          print(\"%d images to array\" % i)\n",
        "  #print(\"All images to array!\")\n",
        "  return dataset"
      ],
      "metadata": {
        "id": "zlU0bRIEJ_ut"
      },
      "execution_count": null,
      "outputs": []
    },
    {
      "cell_type": "code",
      "source": [
        "#dataset = generate_array(\"/content/drive/MyDrive/Image folder\")\n",
        "#print((dataset))\n",
        "\n",
        "#making X_train.......\n",
        "'''\n",
        "X_train_correct = dataset_correct\n",
        "X_train_defected = dataset_defected\n",
        "X_train = sum of those...\n",
        "\n",
        "y_train_correct = np.full((1,#total examples) , 1 , dtype = int)\n",
        "\n",
        "'''"
      ],
      "metadata": {
        "colab": {
          "base_uri": "https://localhost:8080/",
          "height": 53
        },
        "id": "hoyS2WcHJ_Bg",
        "outputId": "a3be3252-c412-4030-8d2b-2b4aa0e2577c"
      },
      "execution_count": null,
      "outputs": [
        {
          "output_type": "execute_result",
          "data": {
            "text/plain": [
              "'\\nX_train_correct = dataset_correct\\nX_train_defected = dataset_defected\\nX_train = sum of those...\\n\\ny_train_correct = np.full((1,#total examples) , 1 , dtype = int)\\n\\n'"
            ],
            "application/vnd.google.colaboratory.intrinsic+json": {
              "type": "string"
            }
          },
          "metadata": {},
          "execution_count": 4
        }
      ]
    },
    {
      "cell_type": "code",
      "source": [
        "X_train_correct = generate_array(\"/content/drive/MyDrive/Correct\")"
      ],
      "metadata": {
        "colab": {
          "base_uri": "https://localhost:8080/"
        },
        "id": "aVT9kowHJ_CL",
        "outputId": "cf4dd16e-f25c-4767-acea-68d047cb078a"
      },
      "execution_count": null,
      "outputs": [
        {
          "output_type": "stream",
          "name": "stdout",
          "text": [
            "Working with 40 images\n",
            "Files in train_files: 40\n"
          ]
        }
      ]
    },
    {
      "cell_type": "code",
      "source": [
        "X_train_defected = generate_array(\"/content/drive/MyDrive/Defected\")"
      ],
      "metadata": {
        "colab": {
          "base_uri": "https://localhost:8080/"
        },
        "id": "pKchHKkxJ_EC",
        "outputId": "e3cd0087-474f-4597-e22e-909abd9b9289"
      },
      "execution_count": null,
      "outputs": [
        {
          "output_type": "stream",
          "name": "stdout",
          "text": [
            "Working with 40 images\n",
            "Files in train_files: 40\n"
          ]
        }
      ]
    },
    {
      "cell_type": "code",
      "source": [
        "y_train_correct = np.full((1 , len(X_train_correct)) , 1)\n",
        "y_train_defected = np.full((1 , len(X_train_correct)) , 0)"
      ],
      "metadata": {
        "id": "wlWk2rWdJ_Gq"
      },
      "execution_count": null,
      "outputs": []
    },
    {
      "cell_type": "code",
      "source": [
        "#concatenation....\n",
        "X_train = np.concatenate((X_train_correct , X_train_defected) , axis = 0)"
      ],
      "metadata": {
        "id": "VPWSW7I0J_JY"
      },
      "execution_count": null,
      "outputs": []
    },
    {
      "cell_type": "code",
      "source": [
        "y_train = np.concatenate((y_train_correct , y_train_defected) , axis = 1)"
      ],
      "metadata": {
        "id": "LdBuS-lMJ_L_"
      },
      "execution_count": null,
      "outputs": []
    },
    {
      "cell_type": "code",
      "source": [
        "y_train = y_train.reshape((80,1))\n",
        "#y_train"
      ],
      "metadata": {
        "id": "Kha5a6-LJ_Om"
      },
      "execution_count": null,
      "outputs": []
    },
    {
      "cell_type": "code",
      "source": [
        "#Using the split to make final data.....\n",
        "from sklearn.model_selection import train_test_split\n",
        "\n",
        "#Splitting\n",
        "X_train, X_test, y_train, y_test = train_test_split(X_train, y_train, test_size=0.2, random_state=33)\n",
        "X_test, X_val, y_test, y_val = train_test_split(X_test, y_test, test_size=0.5, random_state=33)\n",
        "print(\"Train set size: {0}, Val set size: {1}, Test set size: {2}\".format(len(X_train), len(X_val), len(X_test)))"
      ],
      "metadata": {
        "colab": {
          "base_uri": "https://localhost:8080/"
        },
        "id": "xRPSnDSWJ_RN",
        "outputId": "adc71fa0-73d4-43a9-ba49-14458b4adc11"
      },
      "execution_count": null,
      "outputs": [
        {
          "output_type": "stream",
          "name": "stdout",
          "text": [
            "Train set size: 64, Val set size: 8, Test set size: 8\n"
          ]
        }
      ]
    },
    {
      "cell_type": "code",
      "source": [
        "import keras\n",
        "from keras.models import Model\n",
        "from keras.layers import Dense, Input\n",
        "from keras.layers import Conv2D, MaxPooling2D, Dropout, Flatten\n",
        "from keras import backend as k\n",
        "\n",
        "inpx = Input(shape=(1319 , 742 , 3))\n",
        "layer1 = Conv2D(32, kernel_size=(3, 3), activation='relu')(inpx)\n",
        "layer2 = Conv2D(32, (3, 3), activation='relu')(layer1)\n",
        "layer3 = MaxPooling2D(pool_size=(3, 3))(layer2)\n",
        "layer4 = Dropout(0.5)(layer3)\n",
        "layer5 = Flatten()(layer4)\n",
        "layer6 = Dense(1 , activation='sigmoid')(layer5)\n",
        "\n",
        "model = Model([inpx], layer6)\n",
        "model.compile(optimizer=keras.optimizers.Adadelta(),\n",
        "              loss=keras.losses.binary_crossentropy,\n",
        "              metrics=['accuracy'])\n",
        "model.summary()"
      ],
      "metadata": {
        "colab": {
          "base_uri": "https://localhost:8080/"
        },
        "id": "gik10u-uJ_Tz",
        "outputId": "68ccd569-6006-4407-cb5b-053b20c73b01"
      },
      "execution_count": null,
      "outputs": [
        {
          "output_type": "stream",
          "name": "stdout",
          "text": [
            "Model: \"model\"\n",
            "_________________________________________________________________\n",
            " Layer (type)                Output Shape              Param #   \n",
            "=================================================================\n",
            " input_1 (InputLayer)        [(None, 1319, 742, 3)]    0         \n",
            "                                                                 \n",
            " conv2d (Conv2D)             (None, 1317, 740, 32)     896       \n",
            "                                                                 \n",
            " conv2d_1 (Conv2D)           (None, 1315, 738, 32)     9248      \n",
            "                                                                 \n",
            " max_pooling2d (MaxPooling2  (None, 438, 246, 32)      0         \n",
            " D)                                                              \n",
            "                                                                 \n",
            " dropout (Dropout)           (None, 438, 246, 32)      0         \n",
            "                                                                 \n",
            " flatten (Flatten)           (None, 3447936)           0         \n",
            "                                                                 \n",
            " dense (Dense)               (None, 1)                 3447937   \n",
            "                                                                 \n",
            "=================================================================\n",
            "Total params: 3458081 (13.19 MB)\n",
            "Trainable params: 3458081 (13.19 MB)\n",
            "Non-trainable params: 0 (0.00 Byte)\n",
            "_________________________________________________________________\n"
          ]
        }
      ]
    },
    {
      "cell_type": "code",
      "source": [
        "print(X_train.shape)\n",
        "print(y_train.shape)\n",
        "print(X_val.shape)\n",
        "print(y_val.shape)"
      ],
      "metadata": {
        "colab": {
          "base_uri": "https://localhost:8080/"
        },
        "id": "Fbzhi4dBJ_WZ",
        "outputId": "eef18f93-be4d-4af2-f30c-f93dd3f7c71d"
      },
      "execution_count": null,
      "outputs": [
        {
          "output_type": "stream",
          "name": "stdout",
          "text": [
            "(64, 1319, 742, 3)\n",
            "(64, 1)\n",
            "(8, 1319, 742, 3)\n",
            "(8, 1)\n"
          ]
        }
      ]
    },
    {
      "cell_type": "code",
      "source": [
        "model.fit(X_train, y_train, epochs=50 ,batch_size = 16, validation_data = (X_val , y_val))"
      ],
      "metadata": {
        "colab": {
          "base_uri": "https://localhost:8080/"
        },
        "id": "EKXv-Et3J_Za",
        "outputId": "a89e4266-9847-4697-cd93-4461ef8e2ea6"
      },
      "execution_count": null,
      "outputs": [
        {
          "output_type": "stream",
          "name": "stdout",
          "text": [
            "Epoch 1/50\n",
            "4/4 [==============================] - 27s 2s/step - loss: 0.6404 - accuracy: 0.5781 - val_loss: 0.5871 - val_accuracy: 0.8750\n",
            "Epoch 2/50\n",
            "4/4 [==============================] - 4s 903ms/step - loss: 0.4918 - accuracy: 0.9219 - val_loss: 0.5103 - val_accuracy: 0.8750\n",
            "Epoch 3/50\n",
            "4/4 [==============================] - 4s 908ms/step - loss: 0.3852 - accuracy: 1.0000 - val_loss: 0.4498 - val_accuracy: 0.8750\n",
            "Epoch 4/50\n",
            "4/4 [==============================] - 4s 958ms/step - loss: 0.3042 - accuracy: 1.0000 - val_loss: 0.4160 - val_accuracy: 0.8750\n",
            "Epoch 5/50\n",
            "4/4 [==============================] - 4s 925ms/step - loss: 0.2586 - accuracy: 1.0000 - val_loss: 0.3947 - val_accuracy: 0.8750\n",
            "Epoch 6/50\n",
            "4/4 [==============================] - 4s 901ms/step - loss: 0.2328 - accuracy: 1.0000 - val_loss: 0.3870 - val_accuracy: 0.8750\n",
            "Epoch 7/50\n",
            "4/4 [==============================] - 4s 899ms/step - loss: 0.1977 - accuracy: 1.0000 - val_loss: 0.3886 - val_accuracy: 0.8750\n",
            "Epoch 8/50\n",
            "4/4 [==============================] - 4s 909ms/step - loss: 0.1714 - accuracy: 1.0000 - val_loss: 0.3815 - val_accuracy: 0.8750\n",
            "Epoch 9/50\n",
            "4/4 [==============================] - 4s 967ms/step - loss: 0.1459 - accuracy: 1.0000 - val_loss: 0.3811 - val_accuracy: 0.8750\n",
            "Epoch 10/50\n",
            "4/4 [==============================] - 4s 899ms/step - loss: 0.1389 - accuracy: 1.0000 - val_loss: 0.3843 - val_accuracy: 0.8750\n",
            "Epoch 11/50\n",
            "4/4 [==============================] - 4s 909ms/step - loss: 0.1226 - accuracy: 1.0000 - val_loss: 0.3836 - val_accuracy: 0.8750\n",
            "Epoch 12/50\n",
            "4/4 [==============================] - 4s 902ms/step - loss: 0.1123 - accuracy: 1.0000 - val_loss: 0.3837 - val_accuracy: 0.8750\n",
            "Epoch 13/50\n",
            "4/4 [==============================] - 4s 954ms/step - loss: 0.1028 - accuracy: 1.0000 - val_loss: 0.3871 - val_accuracy: 0.8750\n",
            "Epoch 14/50\n",
            "4/4 [==============================] - 4s 944ms/step - loss: 0.0912 - accuracy: 1.0000 - val_loss: 0.3909 - val_accuracy: 0.8750\n",
            "Epoch 15/50\n",
            "4/4 [==============================] - 4s 907ms/step - loss: 0.0857 - accuracy: 1.0000 - val_loss: 0.3945 - val_accuracy: 0.8750\n",
            "Epoch 16/50\n",
            "4/4 [==============================] - 4s 913ms/step - loss: 0.0773 - accuracy: 1.0000 - val_loss: 0.4007 - val_accuracy: 0.8750\n",
            "Epoch 17/50\n",
            "4/4 [==============================] - 4s 921ms/step - loss: 0.0731 - accuracy: 1.0000 - val_loss: 0.4053 - val_accuracy: 0.8750\n",
            "Epoch 18/50\n",
            "4/4 [==============================] - 4s 964ms/step - loss: 0.0670 - accuracy: 1.0000 - val_loss: 0.4125 - val_accuracy: 0.8750\n",
            "Epoch 19/50\n",
            "4/4 [==============================] - 4s 916ms/step - loss: 0.0628 - accuracy: 1.0000 - val_loss: 0.4160 - val_accuracy: 0.8750\n",
            "Epoch 20/50\n",
            "4/4 [==============================] - 4s 913ms/step - loss: 0.0578 - accuracy: 1.0000 - val_loss: 0.4216 - val_accuracy: 0.8750\n",
            "Epoch 21/50\n",
            "4/4 [==============================] - 4s 926ms/step - loss: 0.0546 - accuracy: 1.0000 - val_loss: 0.4301 - val_accuracy: 0.8750\n",
            "Epoch 22/50\n",
            "4/4 [==============================] - 4s 952ms/step - loss: 0.0496 - accuracy: 1.0000 - val_loss: 0.4345 - val_accuracy: 0.8750\n",
            "Epoch 23/50\n",
            "4/4 [==============================] - 4s 941ms/step - loss: 0.0482 - accuracy: 1.0000 - val_loss: 0.4426 - val_accuracy: 0.8750\n",
            "Epoch 24/50\n",
            "4/4 [==============================] - 4s 921ms/step - loss: 0.0435 - accuracy: 1.0000 - val_loss: 0.4506 - val_accuracy: 0.8750\n",
            "Epoch 25/50\n",
            "4/4 [==============================] - 4s 914ms/step - loss: 0.0418 - accuracy: 1.0000 - val_loss: 0.4545 - val_accuracy: 0.8750\n",
            "Epoch 26/50\n",
            "4/4 [==============================] - 4s 953ms/step - loss: 0.0394 - accuracy: 1.0000 - val_loss: 0.4600 - val_accuracy: 0.8750\n",
            "Epoch 27/50\n",
            "4/4 [==============================] - 4s 952ms/step - loss: 0.0367 - accuracy: 1.0000 - val_loss: 0.4684 - val_accuracy: 0.8750\n",
            "Epoch 28/50\n",
            "4/4 [==============================] - 4s 920ms/step - loss: 0.0348 - accuracy: 1.0000 - val_loss: 0.4761 - val_accuracy: 0.8750\n",
            "Epoch 29/50\n",
            "4/4 [==============================] - 4s 924ms/step - loss: 0.0332 - accuracy: 1.0000 - val_loss: 0.4855 - val_accuracy: 0.8750\n",
            "Epoch 30/50\n",
            "4/4 [==============================] - 4s 966ms/step - loss: 0.0304 - accuracy: 1.0000 - val_loss: 0.4899 - val_accuracy: 0.8750\n",
            "Epoch 31/50\n",
            "4/4 [==============================] - 4s 949ms/step - loss: 0.0285 - accuracy: 1.0000 - val_loss: 0.4984 - val_accuracy: 0.8750\n",
            "Epoch 32/50\n",
            "4/4 [==============================] - 4s 919ms/step - loss: 0.0274 - accuracy: 1.0000 - val_loss: 0.5064 - val_accuracy: 0.8750\n",
            "Epoch 33/50\n",
            "4/4 [==============================] - 4s 930ms/step - loss: 0.0250 - accuracy: 1.0000 - val_loss: 0.5120 - val_accuracy: 0.8750\n",
            "Epoch 34/50\n",
            "4/4 [==============================] - 4s 933ms/step - loss: 0.0246 - accuracy: 1.0000 - val_loss: 0.5181 - val_accuracy: 0.8750\n",
            "Epoch 35/50\n",
            "4/4 [==============================] - 4s 956ms/step - loss: 0.0231 - accuracy: 1.0000 - val_loss: 0.5233 - val_accuracy: 0.8750\n",
            "Epoch 36/50\n",
            "4/4 [==============================] - 4s 941ms/step - loss: 0.0222 - accuracy: 1.0000 - val_loss: 0.5297 - val_accuracy: 0.8750\n",
            "Epoch 37/50\n",
            "4/4 [==============================] - 4s 928ms/step - loss: 0.0198 - accuracy: 1.0000 - val_loss: 0.5372 - val_accuracy: 0.8750\n",
            "Epoch 38/50\n",
            "4/4 [==============================] - 4s 931ms/step - loss: 0.0201 - accuracy: 1.0000 - val_loss: 0.5453 - val_accuracy: 0.8750\n",
            "Epoch 39/50\n",
            "4/4 [==============================] - 4s 971ms/step - loss: 0.0180 - accuracy: 1.0000 - val_loss: 0.5519 - val_accuracy: 0.8750\n",
            "Epoch 40/50\n",
            "4/4 [==============================] - 4s 955ms/step - loss: 0.0173 - accuracy: 1.0000 - val_loss: 0.5607 - val_accuracy: 0.8750\n",
            "Epoch 41/50\n",
            "4/4 [==============================] - 4s 924ms/step - loss: 0.0161 - accuracy: 1.0000 - val_loss: 0.5655 - val_accuracy: 0.8750\n",
            "Epoch 42/50\n",
            "4/4 [==============================] - 4s 930ms/step - loss: 0.0156 - accuracy: 1.0000 - val_loss: 0.5733 - val_accuracy: 0.8750\n",
            "Epoch 43/50\n",
            "4/4 [==============================] - 4s 952ms/step - loss: 0.0140 - accuracy: 1.0000 - val_loss: 0.5809 - val_accuracy: 0.8750\n",
            "Epoch 44/50\n",
            "4/4 [==============================] - 4s 982ms/step - loss: 0.0134 - accuracy: 1.0000 - val_loss: 0.5889 - val_accuracy: 0.8750\n",
            "Epoch 45/50\n",
            "4/4 [==============================] - 4s 927ms/step - loss: 0.0132 - accuracy: 1.0000 - val_loss: 0.5942 - val_accuracy: 0.8750\n",
            "Epoch 46/50\n",
            "4/4 [==============================] - 4s 926ms/step - loss: 0.0122 - accuracy: 1.0000 - val_loss: 0.6063 - val_accuracy: 0.8750\n",
            "Epoch 47/50\n",
            "4/4 [==============================] - 4s 939ms/step - loss: 0.0111 - accuracy: 1.0000 - val_loss: 0.6133 - val_accuracy: 0.8750\n",
            "Epoch 48/50\n",
            "4/4 [==============================] - 4s 973ms/step - loss: 0.0104 - accuracy: 1.0000 - val_loss: 0.6216 - val_accuracy: 0.8750\n",
            "Epoch 49/50\n",
            "4/4 [==============================] - 4s 932ms/step - loss: 0.0104 - accuracy: 1.0000 - val_loss: 0.6287 - val_accuracy: 0.8750\n",
            "Epoch 50/50\n",
            "4/4 [==============================] - 4s 926ms/step - loss: 0.0094 - accuracy: 1.0000 - val_loss: 0.6382 - val_accuracy: 0.8750\n"
          ]
        },
        {
          "output_type": "execute_result",
          "data": {
            "text/plain": [
              "<keras.src.callbacks.History at 0x79bedbcdb490>"
            ]
          },
          "metadata": {},
          "execution_count": 14
        }
      ]
    },
    {
      "cell_type": "code",
      "source": [
        "results = model.evaluate(X_test , y_test , batch_size = 4)\n",
        "results"
      ],
      "metadata": {
        "colab": {
          "base_uri": "https://localhost:8080/"
        },
        "id": "wg6V61FhJ_b_",
        "outputId": "840efa75-a53a-4018-c4ba-59ac29dc8b39"
      },
      "execution_count": null,
      "outputs": [
        {
          "output_type": "stream",
          "name": "stdout",
          "text": [
            "2/2 [==============================] - 0s 65ms/step - loss: 0.0103 - accuracy: 1.0000\n"
          ]
        },
        {
          "output_type": "execute_result",
          "data": {
            "text/plain": [
              "[0.010282622650265694, 1.0]"
            ]
          },
          "metadata": {},
          "execution_count": 16
        }
      ]
    },
    {
      "cell_type": "code",
      "source": [],
      "metadata": {
        "id": "YcMfYVsGJ_e2"
      },
      "execution_count": null,
      "outputs": []
    },
    {
      "cell_type": "code",
      "source": [],
      "metadata": {
        "id": "1yAMDzikJ_hm"
      },
      "execution_count": null,
      "outputs": []
    },
    {
      "cell_type": "code",
      "source": [],
      "metadata": {
        "id": "b5EP2XvVJ_kD"
      },
      "execution_count": null,
      "outputs": []
    },
    {
      "cell_type": "code",
      "source": [],
      "metadata": {
        "id": "G3d4uP4IJ_m5"
      },
      "execution_count": null,
      "outputs": []
    },
    {
      "cell_type": "code",
      "source": [],
      "metadata": {
        "id": "tMaubtsfJ_pg"
      },
      "execution_count": null,
      "outputs": []
    },
    {
      "cell_type": "code",
      "source": [],
      "metadata": {
        "id": "x3F-RUWiJ_sF"
      },
      "execution_count": null,
      "outputs": []
    }
  ]
}